{
 "cells": [
  {
   "cell_type": "code",
   "execution_count": 532,
   "id": "abandoned-import",
   "metadata": {},
   "outputs": [],
   "source": [
    "import pandas as pd\n",
    "import matplotlib.pyplot as plt\n",
    "import seaborn as sns\n",
    "%matplotlib inline\n",
    "import numpy as np"
   ]
  },
  {
   "cell_type": "code",
   "execution_count": 533,
   "id": "consecutive-bench",
   "metadata": {},
   "outputs": [],
   "source": [
    "df = pd.read_csv('Wellbeing_and_lifestyle_data_Kaggle.csv')"
   ]
  },
  {
   "cell_type": "markdown",
   "id": "alternative-cleaners",
   "metadata": {},
   "source": [
    "# EDA"
   ]
  },
  {
   "cell_type": "code",
   "execution_count": 534,
   "id": "minus-spelling",
   "metadata": {
    "scrolled": true
   },
   "outputs": [
    {
     "data": {
      "text/html": [
       "<div>\n",
       "<style scoped>\n",
       "    .dataframe tbody tr th:only-of-type {\n",
       "        vertical-align: middle;\n",
       "    }\n",
       "\n",
       "    .dataframe tbody tr th {\n",
       "        vertical-align: top;\n",
       "    }\n",
       "\n",
       "    .dataframe thead th {\n",
       "        text-align: right;\n",
       "    }\n",
       "</style>\n",
       "<table border=\"1\" class=\"dataframe\">\n",
       "  <thead>\n",
       "    <tr style=\"text-align: right;\">\n",
       "      <th></th>\n",
       "      <th>Timestamp</th>\n",
       "      <th>FRUITS_VEGGIES</th>\n",
       "      <th>DAILY_STRESS</th>\n",
       "      <th>PLACES_VISITED</th>\n",
       "      <th>CORE_CIRCLE</th>\n",
       "      <th>SUPPORTING_OTHERS</th>\n",
       "      <th>SOCIAL_NETWORK</th>\n",
       "      <th>ACHIEVEMENT</th>\n",
       "      <th>DONATION</th>\n",
       "      <th>BMI_RANGE</th>\n",
       "      <th>...</th>\n",
       "      <th>SLEEP_HOURS</th>\n",
       "      <th>LOST_VACATION</th>\n",
       "      <th>DAILY_SHOUTING</th>\n",
       "      <th>SUFFICIENT_INCOME</th>\n",
       "      <th>PERSONAL_AWARDS</th>\n",
       "      <th>TIME_FOR_PASSION</th>\n",
       "      <th>WEEKLY_MEDITATION</th>\n",
       "      <th>AGE</th>\n",
       "      <th>GENDER</th>\n",
       "      <th>WORK_LIFE_BALANCE_SCORE</th>\n",
       "    </tr>\n",
       "  </thead>\n",
       "  <tbody>\n",
       "    <tr>\n",
       "      <th>0</th>\n",
       "      <td>7/7/15</td>\n",
       "      <td>3</td>\n",
       "      <td>2</td>\n",
       "      <td>2</td>\n",
       "      <td>5</td>\n",
       "      <td>0</td>\n",
       "      <td>5</td>\n",
       "      <td>2</td>\n",
       "      <td>0</td>\n",
       "      <td>1</td>\n",
       "      <td>...</td>\n",
       "      <td>7</td>\n",
       "      <td>5</td>\n",
       "      <td>5</td>\n",
       "      <td>1</td>\n",
       "      <td>4</td>\n",
       "      <td>0</td>\n",
       "      <td>5</td>\n",
       "      <td>36 to 50</td>\n",
       "      <td>Female</td>\n",
       "      <td>609.5</td>\n",
       "    </tr>\n",
       "    <tr>\n",
       "      <th>1</th>\n",
       "      <td>7/7/15</td>\n",
       "      <td>2</td>\n",
       "      <td>3</td>\n",
       "      <td>4</td>\n",
       "      <td>3</td>\n",
       "      <td>8</td>\n",
       "      <td>10</td>\n",
       "      <td>5</td>\n",
       "      <td>2</td>\n",
       "      <td>2</td>\n",
       "      <td>...</td>\n",
       "      <td>8</td>\n",
       "      <td>2</td>\n",
       "      <td>2</td>\n",
       "      <td>2</td>\n",
       "      <td>3</td>\n",
       "      <td>2</td>\n",
       "      <td>6</td>\n",
       "      <td>36 to 50</td>\n",
       "      <td>Female</td>\n",
       "      <td>655.6</td>\n",
       "    </tr>\n",
       "    <tr>\n",
       "      <th>2</th>\n",
       "      <td>7/7/15</td>\n",
       "      <td>2</td>\n",
       "      <td>3</td>\n",
       "      <td>3</td>\n",
       "      <td>4</td>\n",
       "      <td>4</td>\n",
       "      <td>10</td>\n",
       "      <td>3</td>\n",
       "      <td>2</td>\n",
       "      <td>2</td>\n",
       "      <td>...</td>\n",
       "      <td>8</td>\n",
       "      <td>10</td>\n",
       "      <td>2</td>\n",
       "      <td>2</td>\n",
       "      <td>4</td>\n",
       "      <td>8</td>\n",
       "      <td>3</td>\n",
       "      <td>36 to 50</td>\n",
       "      <td>Female</td>\n",
       "      <td>631.6</td>\n",
       "    </tr>\n",
       "    <tr>\n",
       "      <th>3</th>\n",
       "      <td>7/7/15</td>\n",
       "      <td>3</td>\n",
       "      <td>3</td>\n",
       "      <td>10</td>\n",
       "      <td>3</td>\n",
       "      <td>10</td>\n",
       "      <td>7</td>\n",
       "      <td>2</td>\n",
       "      <td>5</td>\n",
       "      <td>2</td>\n",
       "      <td>...</td>\n",
       "      <td>5</td>\n",
       "      <td>7</td>\n",
       "      <td>5</td>\n",
       "      <td>1</td>\n",
       "      <td>5</td>\n",
       "      <td>2</td>\n",
       "      <td>0</td>\n",
       "      <td>51 or more</td>\n",
       "      <td>Female</td>\n",
       "      <td>622.7</td>\n",
       "    </tr>\n",
       "    <tr>\n",
       "      <th>4</th>\n",
       "      <td>7/7/15</td>\n",
       "      <td>5</td>\n",
       "      <td>1</td>\n",
       "      <td>3</td>\n",
       "      <td>3</td>\n",
       "      <td>10</td>\n",
       "      <td>4</td>\n",
       "      <td>2</td>\n",
       "      <td>4</td>\n",
       "      <td>2</td>\n",
       "      <td>...</td>\n",
       "      <td>7</td>\n",
       "      <td>0</td>\n",
       "      <td>0</td>\n",
       "      <td>2</td>\n",
       "      <td>8</td>\n",
       "      <td>1</td>\n",
       "      <td>5</td>\n",
       "      <td>51 or more</td>\n",
       "      <td>Female</td>\n",
       "      <td>663.9</td>\n",
       "    </tr>\n",
       "  </tbody>\n",
       "</table>\n",
       "<p>5 rows × 24 columns</p>\n",
       "</div>"
      ],
      "text/plain": [
       "  Timestamp  FRUITS_VEGGIES DAILY_STRESS  PLACES_VISITED  CORE_CIRCLE  \\\n",
       "0    7/7/15               3            2               2            5   \n",
       "1    7/7/15               2            3               4            3   \n",
       "2    7/7/15               2            3               3            4   \n",
       "3    7/7/15               3            3              10            3   \n",
       "4    7/7/15               5            1               3            3   \n",
       "\n",
       "   SUPPORTING_OTHERS  SOCIAL_NETWORK  ACHIEVEMENT  DONATION  BMI_RANGE  ...  \\\n",
       "0                  0               5            2         0          1  ...   \n",
       "1                  8              10            5         2          2  ...   \n",
       "2                  4              10            3         2          2  ...   \n",
       "3                 10               7            2         5          2  ...   \n",
       "4                 10               4            2         4          2  ...   \n",
       "\n",
       "   SLEEP_HOURS  LOST_VACATION  DAILY_SHOUTING  SUFFICIENT_INCOME  \\\n",
       "0            7              5               5                  1   \n",
       "1            8              2               2                  2   \n",
       "2            8             10               2                  2   \n",
       "3            5              7               5                  1   \n",
       "4            7              0               0                  2   \n",
       "\n",
       "   PERSONAL_AWARDS  TIME_FOR_PASSION  WEEKLY_MEDITATION         AGE  GENDER  \\\n",
       "0                4                 0                  5    36 to 50  Female   \n",
       "1                3                 2                  6    36 to 50  Female   \n",
       "2                4                 8                  3    36 to 50  Female   \n",
       "3                5                 2                  0  51 or more  Female   \n",
       "4                8                 1                  5  51 or more  Female   \n",
       "\n",
       "   WORK_LIFE_BALANCE_SCORE  \n",
       "0                    609.5  \n",
       "1                    655.6  \n",
       "2                    631.6  \n",
       "3                    622.7  \n",
       "4                    663.9  \n",
       "\n",
       "[5 rows x 24 columns]"
      ]
     },
     "execution_count": 534,
     "metadata": {},
     "output_type": "execute_result"
    }
   ],
   "source": [
    "df.head()"
   ]
  },
  {
   "cell_type": "code",
   "execution_count": 535,
   "id": "anonymous-observation",
   "metadata": {},
   "outputs": [],
   "source": [
    "df['Timestamp'] = pd.to_datetime(df['Timestamp'])"
   ]
  },
  {
   "cell_type": "code",
   "execution_count": 536,
   "id": "fifty-observation",
   "metadata": {},
   "outputs": [
    {
     "data": {
      "text/plain": [
       "'07-07-2015'"
      ]
     },
     "execution_count": 536,
     "metadata": {},
     "output_type": "execute_result"
    }
   ],
   "source": [
    "df['Timestamp'][0].strftime(format='%d-%m-%Y')"
   ]
  },
  {
   "cell_type": "code",
   "execution_count": 537,
   "id": "differential-france",
   "metadata": {},
   "outputs": [],
   "source": [
    "df['Timestamp'] = [df['Timestamp'][i].strftime(format='%d-%m-%Y') for i in range(len(df))]"
   ]
  },
  {
   "cell_type": "markdown",
   "id": "cosmetic-letter",
   "metadata": {},
   "source": [
    "#### Note: Drop the Date for the ML or make it \"before Pandemic\" and \"during Pandemic\" "
   ]
  },
  {
   "cell_type": "code",
   "execution_count": 538,
   "id": "monetary-motorcycle",
   "metadata": {},
   "outputs": [],
   "source": [
    "df.columns = df.columns.str.lower()"
   ]
  },
  {
   "cell_type": "code",
   "execution_count": 539,
   "id": "supposed-photography",
   "metadata": {},
   "outputs": [],
   "source": [
    "#df.to_csv('wellbeing_lifestyle_data.csv')"
   ]
  },
  {
   "cell_type": "code",
   "execution_count": 540,
   "id": "diagnostic-cardiff",
   "metadata": {},
   "outputs": [
    {
     "data": {
      "text/plain": [
       "timestamp                   object\n",
       "fruits_veggies               int64\n",
       "daily_stress                object\n",
       "places_visited               int64\n",
       "core_circle                  int64\n",
       "supporting_others            int64\n",
       "social_network               int64\n",
       "achievement                  int64\n",
       "donation                     int64\n",
       "bmi_range                    int64\n",
       "todo_completed               int64\n",
       "flow                         int64\n",
       "daily_steps                  int64\n",
       "live_vision                  int64\n",
       "sleep_hours                  int64\n",
       "lost_vacation                int64\n",
       "daily_shouting               int64\n",
       "sufficient_income            int64\n",
       "personal_awards              int64\n",
       "time_for_passion             int64\n",
       "weekly_meditation            int64\n",
       "age                         object\n",
       "gender                      object\n",
       "work_life_balance_score    float64\n",
       "dtype: object"
      ]
     },
     "execution_count": 540,
     "metadata": {},
     "output_type": "execute_result"
    }
   ],
   "source": [
    "df.dtypes"
   ]
  },
  {
   "cell_type": "code",
   "execution_count": 541,
   "id": "micro-profit",
   "metadata": {},
   "outputs": [
    {
     "name": "stdout",
     "output_type": "stream",
     "text": [
      "<class 'pandas.core.frame.DataFrame'>\n",
      "RangeIndex: 15972 entries, 0 to 15971\n",
      "Data columns (total 24 columns):\n",
      " #   Column                   Non-Null Count  Dtype  \n",
      "---  ------                   --------------  -----  \n",
      " 0   timestamp                15972 non-null  object \n",
      " 1   fruits_veggies           15972 non-null  int64  \n",
      " 2   daily_stress             15972 non-null  object \n",
      " 3   places_visited           15972 non-null  int64  \n",
      " 4   core_circle              15972 non-null  int64  \n",
      " 5   supporting_others        15972 non-null  int64  \n",
      " 6   social_network           15972 non-null  int64  \n",
      " 7   achievement              15972 non-null  int64  \n",
      " 8   donation                 15972 non-null  int64  \n",
      " 9   bmi_range                15972 non-null  int64  \n",
      " 10  todo_completed           15972 non-null  int64  \n",
      " 11  flow                     15972 non-null  int64  \n",
      " 12  daily_steps              15972 non-null  int64  \n",
      " 13  live_vision              15972 non-null  int64  \n",
      " 14  sleep_hours              15972 non-null  int64  \n",
      " 15  lost_vacation            15972 non-null  int64  \n",
      " 16  daily_shouting           15972 non-null  int64  \n",
      " 17  sufficient_income        15972 non-null  int64  \n",
      " 18  personal_awards          15972 non-null  int64  \n",
      " 19  time_for_passion         15972 non-null  int64  \n",
      " 20  weekly_meditation        15972 non-null  int64  \n",
      " 21  age                      15972 non-null  object \n",
      " 22  gender                   15972 non-null  object \n",
      " 23  work_life_balance_score  15972 non-null  float64\n",
      "dtypes: float64(1), int64(19), object(4)\n",
      "memory usage: 2.9+ MB\n"
     ]
    }
   ],
   "source": [
    "df.info()"
   ]
  },
  {
   "cell_type": "code",
   "execution_count": 542,
   "id": "concerned-edward",
   "metadata": {},
   "outputs": [
    {
     "data": {
      "text/plain": [
       "21 to 35        6108\n",
       "36 to 50        4655\n",
       "51 or more      3390\n",
       "Less than 20    1819\n",
       "Name: age, dtype: int64"
      ]
     },
     "execution_count": 542,
     "metadata": {},
     "output_type": "execute_result"
    }
   ],
   "source": [
    "df['age'].value_counts()"
   ]
  },
  {
   "cell_type": "code",
   "execution_count": 543,
   "id": "proprietary-cabinet",
   "metadata": {},
   "outputs": [
    {
     "data": {
      "text/plain": [
       "Female    9858\n",
       "Male      6114\n",
       "Name: gender, dtype: int64"
      ]
     },
     "execution_count": 543,
     "metadata": {},
     "output_type": "execute_result"
    }
   ],
   "source": [
    "df['gender'].value_counts()"
   ]
  },
  {
   "cell_type": "code",
   "execution_count": 544,
   "id": "manufactured-robert",
   "metadata": {},
   "outputs": [
    {
     "data": {
      "text/plain": [
       "3         4398\n",
       "2         3407\n",
       "4         2960\n",
       "1         2478\n",
       "5         2052\n",
       "0          676\n",
       "1/1/00       1\n",
       "Name: daily_stress, dtype: int64"
      ]
     },
     "execution_count": 544,
     "metadata": {},
     "output_type": "execute_result"
    }
   ],
   "source": [
    "df['daily_stress'].value_counts()"
   ]
  },
  {
   "cell_type": "markdown",
   "id": "underlying-department",
   "metadata": {},
   "source": [
    "#### Note: Delete the row for false value '1/1/00' in daily_stress"
   ]
  },
  {
   "cell_type": "code",
   "execution_count": 545,
   "id": "muslim-candy",
   "metadata": {},
   "outputs": [
    {
     "data": {
      "image/png": "[encoded data removed]",
      "text/plain": [
       "<Figure size 1080x1080 with 20 Axes>"
      ]
     },
     "metadata": {
      "needs_background": "light"
     },
     "output_type": "display_data"
    }
   ],
   "source": [
    "df.hist(bins=25,figsize=(15, 15), layout=(5, 4));\n",
    "plt.show()"
   ]
  },
  {
   "cell_type": "markdown",
   "id": "coordinate-shanghai",
   "metadata": {},
   "source": [
    "### Histograms categorical columns"
   ]
  },
  {
   "cell_type": "code",
   "execution_count": 546,
   "id": "mysterious-panic",
   "metadata": {},
   "outputs": [
    {
     "data": {
      "image/png": "[encoded data removed]",
      "text/plain": [
       "<Figure size 432x288 with 1 Axes>"
      ]
     },
     "metadata": {
      "needs_background": "light"
     },
     "output_type": "display_data"
    }
   ],
   "source": [
    "df.gender.value_counts().plot(kind='bar');"
   ]
  },
  {
   "cell_type": "code",
   "execution_count": 547,
   "id": "rough-sunset",
   "metadata": {},
   "outputs": [
    {
     "data": {
      "image/png": "[encoded data removed]",
      "text/plain": [
       "<Figure size 432x288 with 1 Axes>"
      ]
     },
     "metadata": {
      "needs_background": "light"
     },
     "output_type": "display_data"
    }
   ],
   "source": [
    "df.age.value_counts().plot(kind='bar');"
   ]
  },
  {
   "cell_type": "code",
   "execution_count": 548,
   "id": "bibliographic-compromise",
   "metadata": {},
   "outputs": [
    {
     "data": {
      "image/png": "[encoded data removed]",
      "text/plain": [
       "<Figure size 432x288 with 1 Axes>"
      ]
     },
     "metadata": {
      "needs_background": "light"
     },
     "output_type": "display_data"
    }
   ],
   "source": [
    "df.daily_stress.value_counts().plot(kind='bar');"
   ]
  },
  {
   "cell_type": "code",
   "execution_count": 549,
   "id": "sharp-helmet",
   "metadata": {},
   "outputs": [
    {
     "data": {
      "image/png": "[encoded data removed]",
      "text/plain": [
       "<Figure size 1152x432 with 2 Axes>"
      ]
     },
     "metadata": {
      "needs_background": "light"
     },
     "output_type": "display_data"
    }
   ],
   "source": [
    "plt.figure(figsize=(16, 6))\n",
    "mask = np.triu(np.ones_like(df.corr(), dtype=np.bool))\n",
    "heatmap = sns.heatmap(df.corr(), mask=mask, vmin=-1, vmax=1, annot=True, cmap='BrBG')"
   ]
  },
  {
   "cell_type": "markdown",
   "id": "african-weather",
   "metadata": {},
   "source": [
    "### The highest correlations occur between the work_life_balance_score with other features. The reason is that this feature is the result of the survey. After participants filled out the survey, they get their work_life_balance_score in an email. There is no insight into the calculation of the work_life_balance_score. The work_life_balance_score has a different scale than other features. The feature could be dropped or used as a comparison to the ML model result. \n",
    "### Furthermore it is visible that the highest correlations occur within similar features, e.g. donation and supporting_others 39%. \n",
    "### Time for passion (later categorised in meaning) and flow (achievement) have a correlation of 48%.<br> In order to gain a better overview of features and being able to make conclusions, the 20 features should be categorised in smaller categories."
   ]
  },
  {
   "cell_type": "markdown",
   "id": "double-smart",
   "metadata": {},
   "source": [
    "# Data Cleaning"
   ]
  },
  {
   "cell_type": "code",
   "execution_count": 550,
   "id": "southeast-treasury",
   "metadata": {},
   "outputs": [
    {
     "data": {
      "text/html": [
       "<div>\n",
       "<style scoped>\n",
       "    .dataframe tbody tr th:only-of-type {\n",
       "        vertical-align: middle;\n",
       "    }\n",
       "\n",
       "    .dataframe tbody tr th {\n",
       "        vertical-align: top;\n",
       "    }\n",
       "\n",
       "    .dataframe thead th {\n",
       "        text-align: right;\n",
       "    }\n",
       "</style>\n",
       "<table border=\"1\" class=\"dataframe\">\n",
       "  <thead>\n",
       "    <tr style=\"text-align: right;\">\n",
       "      <th></th>\n",
       "      <th>timestamp</th>\n",
       "      <th>fruits_veggies</th>\n",
       "      <th>daily_stress</th>\n",
       "      <th>places_visited</th>\n",
       "      <th>core_circle</th>\n",
       "      <th>supporting_others</th>\n",
       "      <th>social_network</th>\n",
       "      <th>achievement</th>\n",
       "      <th>donation</th>\n",
       "      <th>bmi_range</th>\n",
       "      <th>...</th>\n",
       "      <th>sleep_hours</th>\n",
       "      <th>lost_vacation</th>\n",
       "      <th>daily_shouting</th>\n",
       "      <th>sufficient_income</th>\n",
       "      <th>personal_awards</th>\n",
       "      <th>time_for_passion</th>\n",
       "      <th>weekly_meditation</th>\n",
       "      <th>age</th>\n",
       "      <th>gender</th>\n",
       "      <th>work_life_balance_score</th>\n",
       "    </tr>\n",
       "  </thead>\n",
       "  <tbody>\n",
       "    <tr>\n",
       "      <th>10005</th>\n",
       "      <td>18-12-2018</td>\n",
       "      <td>3</td>\n",
       "      <td>1/1/00</td>\n",
       "      <td>1</td>\n",
       "      <td>2</td>\n",
       "      <td>10</td>\n",
       "      <td>10</td>\n",
       "      <td>5</td>\n",
       "      <td>5</td>\n",
       "      <td>2</td>\n",
       "      <td>...</td>\n",
       "      <td>6</td>\n",
       "      <td>10</td>\n",
       "      <td>1</td>\n",
       "      <td>2</td>\n",
       "      <td>10</td>\n",
       "      <td>8</td>\n",
       "      <td>2</td>\n",
       "      <td>21 to 35</td>\n",
       "      <td>Male</td>\n",
       "      <td>682.6</td>\n",
       "    </tr>\n",
       "  </tbody>\n",
       "</table>\n",
       "<p>1 rows × 24 columns</p>\n",
       "</div>"
      ],
      "text/plain": [
       "        timestamp  fruits_veggies daily_stress  places_visited  core_circle  \\\n",
       "10005  18-12-2018               3       1/1/00               1            2   \n",
       "\n",
       "       supporting_others  social_network  achievement  donation  bmi_range  \\\n",
       "10005                 10              10            5         5          2   \n",
       "\n",
       "       ...  sleep_hours  lost_vacation  daily_shouting  sufficient_income  \\\n",
       "10005  ...            6             10               1                  2   \n",
       "\n",
       "       personal_awards  time_for_passion  weekly_meditation       age  gender  \\\n",
       "10005               10                 8                  2  21 to 35    Male   \n",
       "\n",
       "       work_life_balance_score  \n",
       "10005                    682.6  \n",
       "\n",
       "[1 rows x 24 columns]"
      ]
     },
     "execution_count": 550,
     "metadata": {},
     "output_type": "execute_result"
    }
   ],
   "source": [
    "df.loc[df['daily_stress'] == '1/1/00']"
   ]
  },
  {
   "cell_type": "code",
   "execution_count": 551,
   "id": "vital-boston",
   "metadata": {},
   "outputs": [],
   "source": [
    "df= df.drop([10005]).reset_index(drop=True)"
   ]
  },
  {
   "cell_type": "code",
   "execution_count": 552,
   "id": "respiratory-bread",
   "metadata": {},
   "outputs": [],
   "source": [
    "df['daily_stress']=df['daily_stress'].astype(int)"
   ]
  },
  {
   "cell_type": "code",
   "execution_count": 553,
   "id": "monetary-modeling",
   "metadata": {},
   "outputs": [
    {
     "data": {
      "text/plain": [
       "15971"
      ]
     },
     "execution_count": 553,
     "metadata": {},
     "output_type": "execute_result"
    }
   ],
   "source": [
    "len(df)"
   ]
  },
  {
   "cell_type": "markdown",
   "id": "documentary-mountain",
   "metadata": {},
   "source": [
    "# 3. Pre-processing "
   ]
  },
  {
   "cell_type": "markdown",
   "id": "interstate-bidding",
   "metadata": {},
   "source": [
    "## Sort the date to before pandemic and during pandemic"
   ]
  },
  {
   "cell_type": "code",
   "execution_count": 554,
   "id": "funny-bennett",
   "metadata": {},
   "outputs": [],
   "source": [
    "# Covid-19 was declared a pandemic on 11 March 2020\n",
    "import datetime\n",
    "p=datetime.date(2020, 3, 10)"
   ]
  },
  {
   "cell_type": "code",
   "execution_count": 555,
   "id": "small-duplicate",
   "metadata": {},
   "outputs": [],
   "source": [
    "p= pd.to_datetime(p)"
   ]
  },
  {
   "cell_type": "code",
   "execution_count": 556,
   "id": "exotic-theater",
   "metadata": {},
   "outputs": [],
   "source": [
    "df['date'] = pd.to_datetime(df['timestamp'],format='%d-%m-%Y')"
   ]
  },
  {
   "cell_type": "code",
   "execution_count": 557,
   "id": "destroyed-cream",
   "metadata": {},
   "outputs": [
    {
     "data": {
      "text/html": [
       "<div>\n",
       "<style scoped>\n",
       "    .dataframe tbody tr th:only-of-type {\n",
       "        vertical-align: middle;\n",
       "    }\n",
       "\n",
       "    .dataframe tbody tr th {\n",
       "        vertical-align: top;\n",
       "    }\n",
       "\n",
       "    .dataframe thead th {\n",
       "        text-align: right;\n",
       "    }\n",
       "</style>\n",
       "<table border=\"1\" class=\"dataframe\">\n",
       "  <thead>\n",
       "    <tr style=\"text-align: right;\">\n",
       "      <th></th>\n",
       "      <th>timestamp</th>\n",
       "      <th>fruits_veggies</th>\n",
       "      <th>daily_stress</th>\n",
       "      <th>places_visited</th>\n",
       "      <th>core_circle</th>\n",
       "      <th>supporting_others</th>\n",
       "      <th>social_network</th>\n",
       "      <th>achievement</th>\n",
       "      <th>donation</th>\n",
       "      <th>bmi_range</th>\n",
       "      <th>...</th>\n",
       "      <th>lost_vacation</th>\n",
       "      <th>daily_shouting</th>\n",
       "      <th>sufficient_income</th>\n",
       "      <th>personal_awards</th>\n",
       "      <th>time_for_passion</th>\n",
       "      <th>weekly_meditation</th>\n",
       "      <th>age</th>\n",
       "      <th>gender</th>\n",
       "      <th>work_life_balance_score</th>\n",
       "      <th>date</th>\n",
       "    </tr>\n",
       "  </thead>\n",
       "  <tbody>\n",
       "    <tr>\n",
       "      <th>15966</th>\n",
       "      <td>14-03-2021</td>\n",
       "      <td>3</td>\n",
       "      <td>3</td>\n",
       "      <td>0</td>\n",
       "      <td>4</td>\n",
       "      <td>0</td>\n",
       "      <td>10</td>\n",
       "      <td>0</td>\n",
       "      <td>4</td>\n",
       "      <td>2</td>\n",
       "      <td>...</td>\n",
       "      <td>0</td>\n",
       "      <td>1</td>\n",
       "      <td>1</td>\n",
       "      <td>5</td>\n",
       "      <td>2</td>\n",
       "      <td>5</td>\n",
       "      <td>51 or more</td>\n",
       "      <td>Female</td>\n",
       "      <td>644.5</td>\n",
       "      <td>2021-03-14</td>\n",
       "    </tr>\n",
       "    <tr>\n",
       "      <th>15967</th>\n",
       "      <td>14-03-2021</td>\n",
       "      <td>3</td>\n",
       "      <td>3</td>\n",
       "      <td>6</td>\n",
       "      <td>8</td>\n",
       "      <td>7</td>\n",
       "      <td>4</td>\n",
       "      <td>6</td>\n",
       "      <td>3</td>\n",
       "      <td>1</td>\n",
       "      <td>...</td>\n",
       "      <td>0</td>\n",
       "      <td>0</td>\n",
       "      <td>2</td>\n",
       "      <td>10</td>\n",
       "      <td>5</td>\n",
       "      <td>8</td>\n",
       "      <td>21 to 35</td>\n",
       "      <td>Female</td>\n",
       "      <td>714.9</td>\n",
       "      <td>2021-03-14</td>\n",
       "    </tr>\n",
       "    <tr>\n",
       "      <th>15968</th>\n",
       "      <td>14-03-2021</td>\n",
       "      <td>4</td>\n",
       "      <td>3</td>\n",
       "      <td>0</td>\n",
       "      <td>10</td>\n",
       "      <td>10</td>\n",
       "      <td>8</td>\n",
       "      <td>6</td>\n",
       "      <td>5</td>\n",
       "      <td>1</td>\n",
       "      <td>...</td>\n",
       "      <td>0</td>\n",
       "      <td>1</td>\n",
       "      <td>2</td>\n",
       "      <td>10</td>\n",
       "      <td>1</td>\n",
       "      <td>10</td>\n",
       "      <td>21 to 35</td>\n",
       "      <td>Male</td>\n",
       "      <td>716.6</td>\n",
       "      <td>2021-03-14</td>\n",
       "    </tr>\n",
       "    <tr>\n",
       "      <th>15969</th>\n",
       "      <td>14-03-2021</td>\n",
       "      <td>1</td>\n",
       "      <td>1</td>\n",
       "      <td>10</td>\n",
       "      <td>8</td>\n",
       "      <td>2</td>\n",
       "      <td>7</td>\n",
       "      <td>3</td>\n",
       "      <td>2</td>\n",
       "      <td>1</td>\n",
       "      <td>...</td>\n",
       "      <td>7</td>\n",
       "      <td>2</td>\n",
       "      <td>2</td>\n",
       "      <td>1</td>\n",
       "      <td>6</td>\n",
       "      <td>8</td>\n",
       "      <td>21 to 35</td>\n",
       "      <td>Female</td>\n",
       "      <td>682.0</td>\n",
       "      <td>2021-03-14</td>\n",
       "    </tr>\n",
       "    <tr>\n",
       "      <th>15970</th>\n",
       "      <td>14-03-2021</td>\n",
       "      <td>5</td>\n",
       "      <td>4</td>\n",
       "      <td>0</td>\n",
       "      <td>2</td>\n",
       "      <td>10</td>\n",
       "      <td>10</td>\n",
       "      <td>5</td>\n",
       "      <td>1</td>\n",
       "      <td>2</td>\n",
       "      <td>...</td>\n",
       "      <td>5</td>\n",
       "      <td>2</td>\n",
       "      <td>2</td>\n",
       "      <td>1</td>\n",
       "      <td>8</td>\n",
       "      <td>4</td>\n",
       "      <td>21 to 35</td>\n",
       "      <td>Female</td>\n",
       "      <td>651.4</td>\n",
       "      <td>2021-03-14</td>\n",
       "    </tr>\n",
       "  </tbody>\n",
       "</table>\n",
       "<p>5 rows × 25 columns</p>\n",
       "</div>"
      ],
      "text/plain": [
       "        timestamp  fruits_veggies  daily_stress  places_visited  core_circle  \\\n",
       "15966  14-03-2021               3             3               0            4   \n",
       "15967  14-03-2021               3             3               6            8   \n",
       "15968  14-03-2021               4             3               0           10   \n",
       "15969  14-03-2021               1             1              10            8   \n",
       "15970  14-03-2021               5             4               0            2   \n",
       "\n",
       "       supporting_others  social_network  achievement  donation  bmi_range  \\\n",
       "15966                  0              10            0         4          2   \n",
       "15967                  7               4            6         3          1   \n",
       "15968                 10               8            6         5          1   \n",
       "15969                  2               7            3         2          1   \n",
       "15970                 10              10            5         1          2   \n",
       "\n",
       "       ...  lost_vacation  daily_shouting  sufficient_income  personal_awards  \\\n",
       "15966  ...              0               1                  1                5   \n",
       "15967  ...              0               0                  2               10   \n",
       "15968  ...              0               1                  2               10   \n",
       "15969  ...              7               2                  2                1   \n",
       "15970  ...              5               2                  2                1   \n",
       "\n",
       "       time_for_passion  weekly_meditation         age  gender  \\\n",
       "15966                 2                  5  51 or more  Female   \n",
       "15967                 5                  8    21 to 35  Female   \n",
       "15968                 1                 10    21 to 35    Male   \n",
       "15969                 6                  8    21 to 35  Female   \n",
       "15970                 8                  4    21 to 35  Female   \n",
       "\n",
       "       work_life_balance_score       date  \n",
       "15966                    644.5 2021-03-14  \n",
       "15967                    714.9 2021-03-14  \n",
       "15968                    716.6 2021-03-14  \n",
       "15969                    682.0 2021-03-14  \n",
       "15970                    651.4 2021-03-14  \n",
       "\n",
       "[5 rows x 25 columns]"
      ]
     },
     "execution_count": 557,
     "metadata": {},
     "output_type": "execute_result"
    }
   ],
   "source": [
    "df.tail()"
   ]
  },
  {
   "cell_type": "code",
   "execution_count": 558,
   "id": "suffering-choice",
   "metadata": {},
   "outputs": [],
   "source": [
    "df['pandemic'] = [df['date'][i]>p for i in range(len(df))]"
   ]
  },
  {
   "cell_type": "code",
   "execution_count": 559,
   "id": "seventh-township",
   "metadata": {},
   "outputs": [
    {
     "data": {
      "text/plain": [
       "False    12852\n",
       "True      3119\n",
       "Name: pandemic, dtype: int64"
      ]
     },
     "execution_count": 559,
     "metadata": {},
     "output_type": "execute_result"
    }
   ],
   "source": [
    "df['pandemic'].value_counts()"
   ]
  },
  {
   "cell_type": "code",
   "execution_count": 560,
   "id": "gorgeous-short",
   "metadata": {},
   "outputs": [],
   "source": [
    "#Turn pandemic boolean into 1 and 0 \n",
    "df['pandemic']= df['pandemic']*1"
   ]
  },
  {
   "cell_type": "code",
   "execution_count": 561,
   "id": "interstate-harris",
   "metadata": {},
   "outputs": [],
   "source": [
    "#df.to_csv('wellbeing_pandemic.csv')"
   ]
  },
  {
   "cell_type": "markdown",
   "id": "heavy-filling",
   "metadata": {},
   "source": [
    "#### The impacts of the pandemic have been investigated in Tableau."
   ]
  },
  {
   "cell_type": "markdown",
   "id": "hourly-devon",
   "metadata": {},
   "source": [
    "## Prepare Age and Gender for Machine Learning"
   ]
  },
  {
   "cell_type": "code",
   "execution_count": 562,
   "id": "bibliographic-taylor",
   "metadata": {},
   "outputs": [],
   "source": [
    "aged = {'Less than 20' : 1, '21 to 35' : 2, '36 to 50' : 3, '51 or more' : 4}\n",
    "df['age'] =[aged[x] for x in df.age]\n"
   ]
  },
  {
   "cell_type": "code",
   "execution_count": 563,
   "id": "minor-opening",
   "metadata": {},
   "outputs": [],
   "source": [
    "gendered = {'Female' : 1, 'Male' : 0}\n",
    "df['gender'] = [gendered[x] for x in df.gender]"
   ]
  },
  {
   "cell_type": "markdown",
   "id": "damaged-speed",
   "metadata": {},
   "source": [
    "## 5 Categories of each 4 features "
   ]
  },
  {
   "cell_type": "markdown",
   "id": "veterinary-swaziland",
   "metadata": {},
   "source": [
    "Score per category: low (1), medium (2) or high (3)\n",
    "<br>e.g. a person has the result of: \n",
    "* body medium \n",
    "* mind low \n",
    "* achievement high \n",
    "* connection medium \n",
    "* meaning medium"
   ]
  },
  {
   "cell_type": "markdown",
   "id": "exempt-colombia",
   "metadata": {},
   "source": [
    "#### Calculation Method\n",
    "First the category score, e.g. body score is calculated by the sum of the answers of each of the 4 features. <br>Per feature the score is 1, 2 or 3, so that the sum will be between 4 (lowest) and 12 (highest).\n",
    "<br>Afterwards the body score gets ordered into low (4-6), medium (7-9) or high (10-12).\n",
    "<br>The same method is applied for the other 4 categories."
   ]
  },
  {
   "cell_type": "markdown",
   "id": "enabling-fleece",
   "metadata": {},
   "source": [
    "1. Healthy body - reflecting your physical well-being and healthy habits\n",
    "* fruits_veggies 0, 1, 2, 3, 4, 5 or more servings per day\n",
    "* bmi_range 1 (below 25) 2 (more than 25: overweight)\n",
    "* daily_steps 1.000 to 10.000 (in 1k steps) \n",
    "* sleep_hours per night 1h to 10h (in 1h steps) "
   ]
  },
  {
   "cell_type": "code",
   "execution_count": 564,
   "id": "compliant-saver",
   "metadata": {},
   "outputs": [],
   "source": [
    "df['body_score'] = df['fruits_veggies'].map({0 : 1, 1 : 1, 2 : 2, 3:2, 4:3, 5:3})+ df['bmi_range'].map({2 :1, 1 : 3})+df['daily_steps'].map({1:1, 2:1, 3:1, 4:1, 5:2, 6:2, 7:2, 8:3, 9:3, 10:3})+df['sleep_hours'].map({1:1,2:1,3:1,4:1,5:2,6:2,10:2, 7:3,8:3,9:3})"
   ]
  },
  {
   "cell_type": "code",
   "execution_count": 565,
   "id": "native-memory",
   "metadata": {},
   "outputs": [],
   "source": [
    "df['body'] = df['body_score'].map({4 : 1, 5 : 1, 6 : 1, 7:2, 8:2, 9:2, 10:3, 11:3, 12:3})"
   ]
  },
  {
   "cell_type": "markdown",
   "id": "western-tension",
   "metadata": {},
   "source": [
    "2. Healthy mind - indicating how well you embrace positive emotions\n",
    "* sufficient_income\n",
    "* daily_stress\n",
    "* daily_shouting\n",
    "* weekly_meditation"
   ]
  },
  {
   "cell_type": "code",
   "execution_count": 566,
   "id": "seasonal-butterfly",
   "metadata": {},
   "outputs": [],
   "source": [
    "df['mind_score']=df['sufficient_income'].map({1:1, 2:3})+df['daily_shouting'].map({0:3,1:3,2:3,3:3,4:2,5:2,6:2,7:1,8:1,9:1,10:1})+df['daily_stress'].map({0:3,1:3,2:2,3:2,4:1,5:1})+df['weekly_meditation'].map({0:1,1:1,2:1,3:1,4:2,5:2,6:2,7:3,8:3,9:3,10:3})"
   ]
  },
  {
   "cell_type": "code",
   "execution_count": 567,
   "id": "mediterranean-record",
   "metadata": {},
   "outputs": [],
   "source": [
    "df['mind'] = df['mind_score'].map({4 : 1, 5 : 1, 6 : 1, 7:2, 8:2, 9:2, 10:3, 11:3, 12:3})"
   ]
  },
  {
   "cell_type": "markdown",
   "id": "latin-placement",
   "metadata": {},
   "source": [
    "3. Expertise, measuring the ability to grow your expertise and achieve something unique;\n",
    "* personal_awards\n",
    "* todo_completed\n",
    "* achievement\n",
    "* flow"
   ]
  },
  {
   "cell_type": "code",
   "execution_count": 568,
   "id": "taken-value",
   "metadata": {},
   "outputs": [],
   "source": [
    "df['achieve_score']=df['personal_awards'].map({0:1,1:1,2:1,3:1,4:2,5:2,6:2,7:3,8:3,9:3,10:3})+df['todo_completed'].map({0:1,1:1,2:1,3:1,4:2,5:2,6:2,7:3,8:3,9:3,10:3})+df['achievement'].map({0:1,1:1,2:1,3:1,4:2,5:2,6:2,7:3,8:3,9:3,10:3})+df['flow'].map({0:1,1:1,2:1,3:1,4:2,5:2,6:2,7:3,8:3,9:3,10:3})"
   ]
  },
  {
   "cell_type": "code",
   "execution_count": 569,
   "id": "closing-lesson",
   "metadata": {},
   "outputs": [],
   "source": [
    "df['achieve'] = df['achieve_score'].map({4 : 1, 5 : 1, 6 : 1, 7:2, 8:2, 9:2, 10:3, 11:3, 12:3})"
   ]
  },
  {
   "cell_type": "markdown",
   "id": "unnecessary-heading",
   "metadata": {},
   "source": [
    "4. Connection, assessing the strength of your network and your inclination to discover the world;\n",
    "* core_circle\n",
    "* lost_vacation\n",
    "* social_network\n",
    "* places_visited"
   ]
  },
  {
   "cell_type": "code",
   "execution_count": 570,
   "id": "peripheral-eleven",
   "metadata": {},
   "outputs": [],
   "source": [
    "df['connection_score']=df['core_circle'].map({0:1,1:1,2:1,3:1,4:2,5:2,6:2,7:3,8:3,9:3,10:3})+df['lost_vacation'].map({0:3,1:3,2:3,3:3,4:2,5:2,6:2,7:1,8:1,9:1,10:1})+df['social_network'].map({0:1,1:1,2:1,3:1,4:2,5:2,6:2,7:3,8:3,9:3,10:3})+df['places_visited'].map({0:1,1:1,2:1,3:1,4:2,5:2,6:2,7:3,8:3,9:3,10:3})"
   ]
  },
  {
   "cell_type": "code",
   "execution_count": 571,
   "id": "informed-briefing",
   "metadata": {},
   "outputs": [],
   "source": [
    "df['connection'] = df['connection_score'].map({4 : 1, 5 : 1, 6 : 1, 7:2, 8:2, 9:2, 10:3, 11:3, 12:3})"
   ]
  },
  {
   "cell_type": "markdown",
   "id": "historic-nigeria",
   "metadata": {},
   "source": [
    "5. Meaning, evaluating your compassion, generosity and how much 'you are living the life of your dream’.\n",
    "* donation\n",
    "* live_vision\n",
    "* supporting_others\n",
    "* time_for_passion"
   ]
  },
  {
   "cell_type": "code",
   "execution_count": 572,
   "id": "regulated-gambling",
   "metadata": {},
   "outputs": [],
   "source": [
    "df['meaning_score']=df['donation'].map({0:1,1:1,2:2,3:2,4:3,5:3})+df['live_vision'].map({0:1,1:1,2:1,3:1,4:2,5:2,6:2,7:3,8:3,9:3,10:3})+df['supporting_others'].map({0:1,1:1,2:1,3:1,4:2,5:2,6:2,7:3,8:3,9:3,10:3})+df['time_for_passion'].map({0:1,1:1,2:1,3:1,4:2,5:2,6:2,7:3,8:3,9:3,10:3})"
   ]
  },
  {
   "cell_type": "code",
   "execution_count": 573,
   "id": "administrative-passport",
   "metadata": {},
   "outputs": [],
   "source": [
    "df['meaning'] = df['meaning_score'].map({4 : 1, 5 : 1, 6 : 1, 7:2, 8:2, 9:2, 10:3, 11:3, 12:3})"
   ]
  },
  {
   "cell_type": "code",
   "execution_count": 574,
   "id": "fundamental-albania",
   "metadata": {},
   "outputs": [],
   "source": [
    "scored = df.filter(['body','mind','achieve','connection','meaning','gender','age'])"
   ]
  },
  {
   "cell_type": "code",
   "execution_count": 575,
   "id": "underlying-latin",
   "metadata": {},
   "outputs": [],
   "source": [
    "#scored.to_csv('scored_df.csv')"
   ]
  },
  {
   "cell_type": "code",
   "execution_count": 576,
   "id": "partial-facility",
   "metadata": {},
   "outputs": [
    {
     "data": {
      "image/png": "[encoded data removed]",
      "text/plain": [
       "<Figure size 1080x1080 with 20 Axes>"
      ]
     },
     "metadata": {
      "needs_background": "light"
     },
     "output_type": "display_data"
    }
   ],
   "source": [
    "scored.hist(bins=9,figsize=(15, 15), layout=(5, 4));\n",
    "plt.show()"
   ]
  },
  {
   "cell_type": "markdown",
   "id": "tough-collar",
   "metadata": {},
   "source": [
    "### Heatmap with the 5 categories"
   ]
  },
  {
   "cell_type": "code",
   "execution_count": 577,
   "id": "worldwide-handy",
   "metadata": {},
   "outputs": [],
   "source": [
    "cats = df.filter(['body','mind','achieve','connection','meaning'])"
   ]
  },
  {
   "cell_type": "code",
   "execution_count": 578,
   "id": "painful-friendly",
   "metadata": {},
   "outputs": [
    {
     "data": {
      "image/png": "[encoded data removed]",
      "text/plain": [
       "<Figure size 864x504 with 2 Axes>"
      ]
     },
     "metadata": {
      "needs_background": "light"
     },
     "output_type": "display_data"
    }
   ],
   "source": [
    "plt.figure(figsize=(12, 7))\n",
    "sns.set_style(\"whitegrid\")\n",
    "mask = np.triu(np.ones_like(cats.corr(), dtype=np.bool))\n",
    "heatmap = sns.heatmap(cats.corr(), mask=mask, vmin=-1, vmax=1, annot=True, cmap='BrBG')"
   ]
  },
  {
   "cell_type": "markdown",
   "id": "honey-doctrine",
   "metadata": {},
   "source": [
    "* The highest correlations are: achievement + meaning 48% , connection + achievement 33%, connection + meaning 31%\n",
    "* Interesting that body + mind has only a correlation of 21%"
   ]
  },
  {
   "cell_type": "markdown",
   "id": "aware-monitoring",
   "metadata": {},
   "source": [
    "## Random Forest Classifier"
   ]
  },
  {
   "cell_type": "code",
   "execution_count": 579,
   "id": "sticky-priest",
   "metadata": {},
   "outputs": [
    {
     "data": {
      "text/html": [
       "<div>\n",
       "<style scoped>\n",
       "    .dataframe tbody tr th:only-of-type {\n",
       "        vertical-align: middle;\n",
       "    }\n",
       "\n",
       "    .dataframe tbody tr th {\n",
       "        vertical-align: top;\n",
       "    }\n",
       "\n",
       "    .dataframe thead th {\n",
       "        text-align: right;\n",
       "    }\n",
       "</style>\n",
       "<table border=\"1\" class=\"dataframe\">\n",
       "  <thead>\n",
       "    <tr style=\"text-align: right;\">\n",
       "      <th></th>\n",
       "      <th>body</th>\n",
       "      <th>mind</th>\n",
       "      <th>achieve</th>\n",
       "      <th>connection</th>\n",
       "      <th>meaning</th>\n",
       "      <th>gender</th>\n",
       "      <th>age</th>\n",
       "    </tr>\n",
       "  </thead>\n",
       "  <tbody>\n",
       "    <tr>\n",
       "      <th>0</th>\n",
       "      <td>3</td>\n",
       "      <td>2</td>\n",
       "      <td>2</td>\n",
       "      <td>2</td>\n",
       "      <td>1</td>\n",
       "      <td>1</td>\n",
       "      <td>3</td>\n",
       "    </tr>\n",
       "    <tr>\n",
       "      <th>1</th>\n",
       "      <td>2</td>\n",
       "      <td>3</td>\n",
       "      <td>1</td>\n",
       "      <td>2</td>\n",
       "      <td>2</td>\n",
       "      <td>1</td>\n",
       "      <td>3</td>\n",
       "    </tr>\n",
       "    <tr>\n",
       "      <th>2</th>\n",
       "      <td>2</td>\n",
       "      <td>2</td>\n",
       "      <td>1</td>\n",
       "      <td>2</td>\n",
       "      <td>2</td>\n",
       "      <td>1</td>\n",
       "      <td>3</td>\n",
       "    </tr>\n",
       "    <tr>\n",
       "      <th>3</th>\n",
       "      <td>2</td>\n",
       "      <td>1</td>\n",
       "      <td>1</td>\n",
       "      <td>2</td>\n",
       "      <td>2</td>\n",
       "      <td>1</td>\n",
       "      <td>4</td>\n",
       "    </tr>\n",
       "    <tr>\n",
       "      <th>4</th>\n",
       "      <td>2</td>\n",
       "      <td>3</td>\n",
       "      <td>2</td>\n",
       "      <td>2</td>\n",
       "      <td>2</td>\n",
       "      <td>1</td>\n",
       "      <td>4</td>\n",
       "    </tr>\n",
       "  </tbody>\n",
       "</table>\n",
       "</div>"
      ],
      "text/plain": [
       "   body  mind  achieve  connection  meaning  gender  age\n",
       "0     3     2        2           2        1       1    3\n",
       "1     2     3        1           2        2       1    3\n",
       "2     2     2        1           2        2       1    3\n",
       "3     2     1        1           2        2       1    4\n",
       "4     2     3        2           2        2       1    4"
      ]
     },
     "execution_count": 579,
     "metadata": {},
     "output_type": "execute_result"
    }
   ],
   "source": [
    "scored.head()"
   ]
  },
  {
   "cell_type": "code",
   "execution_count": 580,
   "id": "statistical-superior",
   "metadata": {},
   "outputs": [],
   "source": [
    "# Split dataset into features and target\n",
    "X = scored.drop('achieve', axis=1)\n",
    "y=scored['achieve']"
   ]
  },
  {
   "cell_type": "code",
   "execution_count": 581,
   "id": "indirect-schedule",
   "metadata": {},
   "outputs": [
    {
     "data": {
      "text/plain": [
       "2    7618\n",
       "1    5490\n",
       "3    2863\n",
       "Name: achieve, dtype: int64"
      ]
     },
     "execution_count": 581,
     "metadata": {},
     "output_type": "execute_result"
    }
   ],
   "source": [
    "# View count of each class\n",
    "y.value_counts()"
   ]
  },
  {
   "cell_type": "code",
   "execution_count": 582,
   "id": "cheap-alfred",
   "metadata": {},
   "outputs": [],
   "source": [
    "# Split features and target into train and test sets\n",
    "X_train, X_test, y_train, y_test = train_test_split(X, y, random_state=1, stratify=y)"
   ]
  },
  {
   "cell_type": "code",
   "execution_count": 583,
   "id": "mineral-kidney",
   "metadata": {},
   "outputs": [
    {
     "data": {
      "text/plain": [
       "RandomForestClassifier()"
      ]
     },
     "execution_count": 583,
     "metadata": {},
     "output_type": "execute_result"
    }
   ],
   "source": [
    "# Instantiate and fit the RandomForestClassifier\n",
    "from sklearn.ensemble import RandomForestClassifier\n",
    "forest = RandomForestClassifier()\n",
    "forest.fit(X_train, y_train)"
   ]
  },
  {
   "cell_type": "code",
   "execution_count": 584,
   "id": "junior-elder",
   "metadata": {},
   "outputs": [],
   "source": [
    "# Make predictions for the test set\n",
    "y_pred_test = forest.predict(X_test)"
   ]
  },
  {
   "cell_type": "code",
   "execution_count": 585,
   "id": "second-surge",
   "metadata": {},
   "outputs": [
    {
     "data": {
      "text/plain": [
       "0.5697470573503631"
      ]
     },
     "execution_count": 585,
     "metadata": {},
     "output_type": "execute_result"
    }
   ],
   "source": [
    "# View accuracy score\n",
    "from sklearn.metrics import accuracy_score, confusion_matrix, classification_report\n",
    "accuracy_score(y_test, y_pred_test)"
   ]
  },
  {
   "cell_type": "code",
   "execution_count": 589,
   "id": "progressive-charleston",
   "metadata": {},
   "outputs": [
    {
     "data": {
      "image/png": "[encoded data removed]",
      "text/plain": [
       "<Figure size 648x216 with 2 Axes>"
      ]
     },
     "metadata": {},
     "output_type": "display_data"
    }
   ],
   "source": [
    "# Get and reshape confusion matrix data\n",
    "matrix = confusion_matrix(y_test,y_pred_test)\n",
    "matrix = matrix.astype('float') / matrix.sum(axis=1)[:, np.newaxis]\n",
    "\n",
    "# Build the plot\n",
    "plt.figure(figsize=(9,3))\n",
    "sns.set(font_scale=1.4)\n",
    "sns.heatmap(matrix, annot=True, annot_kws={'size':10},\n",
    "            cmap=plt.cm.Greens, linewidths=0.2)\n",
    "\n",
    "# Add labels to the plot\n",
    "class_names = ['Low Achievement', 'Medium Achievement', 'High Achievement']\n",
    "tick_marks = np.arange(len(class_names))\n",
    "tick_marks2 = tick_marks + 0.5\n",
    "plt.xticks(tick_marks, class_names, rotation=25)\n",
    "plt.yticks(tick_marks2, class_names, rotation=0)\n",
    "plt.xlabel('Predicted label')\n",
    "plt.ylabel('True label')\n",
    "plt.title('Confusion Matrix for Random Forest Model')\n",
    "plt.show()"
   ]
  },
  {
   "cell_type": "markdown",
   "id": "interpreted-strength",
   "metadata": {},
   "source": [
    "### The model false predicted medium achievers often, probably because the sample size of medium achievers is the biggest. "
   ]
  },
  {
   "cell_type": "code",
   "execution_count": 592,
   "id": "incorporated-tender",
   "metadata": {},
   "outputs": [
    {
     "name": "stdout",
     "output_type": "stream",
     "text": [
      "              precision    recall  f1-score   support\n",
      "\n",
      "           1       0.61      0.54      0.57      1372\n",
      "           2       0.56      0.68      0.61      1905\n",
      "           3       0.51      0.33      0.40       716\n",
      "\n",
      "    accuracy                           0.57      3993\n",
      "   macro avg       0.56      0.52      0.53      3993\n",
      "weighted avg       0.57      0.57      0.56      3993\n",
      "\n"
     ]
    }
   ],
   "source": [
    "# View the classification report for test data and predictions\n",
    "print(classification_report(y_test,y_pred_test ))"
   ]
  },
  {
   "cell_type": "markdown",
   "id": "killing-exclusion",
   "metadata": {},
   "source": [
    "### The results are not so good. Out of all true high achievers only 33% were predicted correctly (Recall). <br>Only 51% of the high achievers that were predicted are actually high achievers (Precision)."
   ]
  },
  {
   "cell_type": "markdown",
   "id": "english-nirvana",
   "metadata": {},
   "source": [
    "# Logistic Regression"
   ]
  },
  {
   "cell_type": "markdown",
   "id": "expressed-button",
   "metadata": {},
   "source": [
    "### The model predicts the high achievers (3) from the wellbeing category achievement <br>by the other 4 categories"
   ]
  },
  {
   "cell_type": "code",
   "execution_count": 601,
   "id": "express-impossible",
   "metadata": {},
   "outputs": [],
   "source": [
    "# import sklearn libraries\n",
    "from sklearn.linear_model import LogisticRegression\n",
    "from sklearn.preprocessing import StandardScaler\n",
    "from sklearn.metrics import confusion_matrix\n",
    "from sklearn.model_selection import train_test_split\n",
    "\n",
    "import warnings\n",
    "warnings.filterwarnings('ignore')"
   ]
  },
  {
   "cell_type": "code",
   "execution_count": 603,
   "id": "wrong-treasure",
   "metadata": {},
   "outputs": [],
   "source": [
    "## prepare variables\n",
    "X = scored[['body','mind','connection','meaning']]\n",
    "y = (scored.achieve == 3).astype(int)"
   ]
  },
  {
   "cell_type": "markdown",
   "id": "declared-hamburg",
   "metadata": {},
   "source": [
    "### Model before sampling"
   ]
  },
  {
   "cell_type": "code",
   "execution_count": 604,
   "id": "simplified-peeing",
   "metadata": {},
   "outputs": [
    {
     "data": {
      "text/plain": [
       "0    13108\n",
       "1     2863\n",
       "Name: achieve, dtype: int64"
      ]
     },
     "execution_count": 604,
     "metadata": {},
     "output_type": "execute_result"
    }
   ],
   "source": [
    "y.value_counts()"
   ]
  },
  {
   "cell_type": "markdown",
   "id": "directed-richmond",
   "metadata": {},
   "source": [
    "#### The highest achievers are  only 18% of the total sample size."
   ]
  },
  {
   "cell_type": "code",
   "execution_count": 605,
   "id": "legal-subcommittee",
   "metadata": {},
   "outputs": [
    {
     "data": {
      "image/png": "[encoded data removed]",
      "text/plain": [
       "<Figure size 576x576 with 2 Axes>"
      ]
     },
     "metadata": {},
     "output_type": "display_data"
    }
   ],
   "source": [
    "X_train, X_test, y_train, y_test = train_test_split(X, y, test_size=0.3, random_state=100)\n",
    "\n",
    "# instantiating and training of a LogisticRegression model\n",
    "model = LogisticRegression(random_state=0, solver='lbfgs',\n",
    "                        multi_class='ovr').fit(X_train, y_train)\n",
    "\n",
    "# creating predictions based on our trained model\n",
    "y_pred=model.predict(X_test)\n",
    "\n",
    "# calculating confusion matrix\n",
    "cnfmat = confusion_matrix(y_test,y_pred)\n",
    "\n",
    "# creating a Dataframe out of our confusion matrix. Makes it more comfortable to plot in seaborn\n",
    "df_cm = pd.DataFrame(cnfmat, columns=np.unique(y_test), index = np.unique(y_test))\n",
    "\n",
    "# assinging column and index names to our df\n",
    "df_cm.index.name = 'Actual High Achievers'\n",
    "df_cm.columns.name = 'Predicted High Achievers'\n",
    "\n",
    "# set the fontsize for my plot\n",
    "sns.set(font_scale=1)\n",
    "\n",
    "# this funcformatter is necessary to create a custom function which formats our values as % later\n",
    "from matplotlib.ticker import FuncFormatter\n",
    "fmt = lambda x,pos: '{:.0%}'.format(x)\n",
    "\n",
    "# set plot size\n",
    "fig, ax = plt.subplots(figsize=(8,8))\n",
    "\n",
    "# plot the heatmap for our confusion matrix\n",
    "sns.heatmap(df_cm/df_cm.sum().sum(),  # plot the number of values as percentage of all values in the confusion matrix\n",
    "            annot=True,\n",
    "            fmt='.0%',\n",
    "            cmap='hot',\n",
    "            annot_kws={\"size\":15},\n",
    "            cbar_kws={'format': FuncFormatter(fmt)}\n",
    "           );"
   ]
  },
  {
   "cell_type": "code",
   "execution_count": 608,
   "id": "returning-trinidad",
   "metadata": {},
   "outputs": [
    {
     "name": "stdout",
     "output_type": "stream",
     "text": [
      "                        precision    recall  f1-score   support\n",
      "\n",
      "Low & Medium Achievers       0.86      0.94      0.90      3947\n",
      "        High Achievers       0.54      0.31      0.39       845\n",
      "\n",
      "              accuracy                           0.83      4792\n",
      "             macro avg       0.70      0.63      0.65      4792\n",
      "          weighted avg       0.81      0.83      0.81      4792\n",
      "\n"
     ]
    }
   ],
   "source": [
    "# View the classification report for test data and predictions\n",
    "from sklearn.metrics import classification_report\n",
    "target_names = ['Low & Medium Achievers', 'High Achievers']\n",
    "print(classification_report(y_test,y_pred,target_names=target_names))"
   ]
  },
  {
   "cell_type": "markdown",
   "id": "settled-oracle",
   "metadata": {},
   "source": [
    "#### Recall: Out of all true high achievers only 31% were predicted correctly.  <br>Precision: 54% of the high achievers we have predicted are actually high achievers. <br>The accuracy score is 83%, but accuracy is not a great measure of classifier performance when the classes are imbalanced."
   ]
  },
  {
   "cell_type": "markdown",
   "id": "supposed-romance",
   "metadata": {},
   "source": [
    "### Applying TOMEK to downsample the majority class of the label"
   ]
  },
  {
   "cell_type": "code",
   "execution_count": 610,
   "id": "legitimate-month",
   "metadata": {},
   "outputs": [],
   "source": [
    "from imblearn.under_sampling import TomekLinks"
   ]
  },
  {
   "cell_type": "code",
   "execution_count": 611,
   "id": "through-pursuit",
   "metadata": {},
   "outputs": [
    {
     "data": {
      "text/plain": [
       "0    13108\n",
       "1     2863\n",
       "Name: achieve, dtype: int64"
      ]
     },
     "execution_count": 611,
     "metadata": {},
     "output_type": "execute_result"
    }
   ],
   "source": [
    "tl = TomekLinks('majority')\n",
    "X_tl, y_tl = tl.fit_resample(X, y)\n",
    "y_tl.value_counts()"
   ]
  },
  {
   "cell_type": "markdown",
   "id": "royal-reynolds",
   "metadata": {},
   "source": [
    "#### The sample size did not change, so the result would not change."
   ]
  },
  {
   "cell_type": "markdown",
   "id": "comparable-globe",
   "metadata": {},
   "source": [
    "### SMOTE - oversample the minority class of the target label"
   ]
  },
  {
   "cell_type": "code",
   "execution_count": 612,
   "id": "closing-integration",
   "metadata": {},
   "outputs": [],
   "source": [
    "from imblearn.over_sampling import SMOTE\n",
    "smote = SMOTE()"
   ]
  },
  {
   "cell_type": "code",
   "execution_count": 613,
   "id": "complex-excuse",
   "metadata": {},
   "outputs": [
    {
     "data": {
      "text/plain": [
       "0    13108\n",
       "1    13108\n",
       "Name: achieve, dtype: int64"
      ]
     },
     "execution_count": 613,
     "metadata": {},
     "output_type": "execute_result"
    }
   ],
   "source": [
    "X_sm, y_sm = smote.fit_resample(X, y)\n",
    "y_sm.value_counts()"
   ]
  },
  {
   "cell_type": "code",
   "execution_count": 616,
   "id": "ordinary-straight",
   "metadata": {},
   "outputs": [
    {
     "data": {
      "image/png": "[encoded data removed]",
      "text/plain": [
       "<Figure size 576x576 with 2 Axes>"
      ]
     },
     "metadata": {},
     "output_type": "display_data"
    }
   ],
   "source": [
    "X_train, X_test, y_train, y_test = train_test_split(X_sm, y_sm, test_size=0.3, random_state=100)\n",
    "\n",
    "model = LogisticRegression(random_state=0, solver='lbfgs',\n",
    "                        multi_class='ovr').fit(X_train, y_train)\n",
    "\n",
    "y_pred=model.predict(X_test)\n",
    "cnfmat = confusion_matrix(y_test,y_pred)\n",
    "\n",
    "df_cm = pd.DataFrame(cnfmat, columns=np.unique(y_test), index = np.unique(y_test))\n",
    "\n",
    "\n",
    "df_cm.index.name = 'Actual High Achievers'\n",
    "df_cm.columns.name = 'Predicted High Achievers'\n",
    "\n",
    "sns.set(font_scale=1)\n",
    "\n",
    "from matplotlib.ticker import FuncFormatter\n",
    "fmt = lambda x,pos: '{:.0%}'.format(x)\n",
    "\n",
    "# set plot size\n",
    "fig, ax = plt.subplots(figsize=(8,8))\n",
    "\n",
    "# plot the heatmap\n",
    "sns.heatmap(df_cm/df_cm.sum().sum(),  # plot the number of values as percentage of all values in the confusion matrix        \n",
    "    annot=True,\n",
    "            fmt='.0%',\n",
    "            cmap='hot',\n",
    "            annot_kws={\"size\":15},\n",
    "            cbar_kws={'format': FuncFormatter(fmt)}\n",
    "           );"
   ]
  },
  {
   "cell_type": "code",
   "execution_count": 617,
   "id": "based-example",
   "metadata": {},
   "outputs": [
    {
     "name": "stdout",
     "output_type": "stream",
     "text": [
      "                        precision    recall  f1-score   support\n",
      "\n",
      "Low & Medium Achievers       0.74      0.69      0.71      3983\n",
      "        High Achievers       0.70      0.75      0.72      3882\n",
      "\n",
      "              accuracy                           0.72      7865\n",
      "             macro avg       0.72      0.72      0.72      7865\n",
      "          weighted avg       0.72      0.72      0.72      7865\n",
      "\n"
     ]
    }
   ],
   "source": [
    "# View the classification report for test data and predictions\n",
    "from sklearn.metrics import classification_report\n",
    "target_names = ['Low & Medium Achievers', 'High Achievers']\n",
    "print(classification_report(y_test,y_pred,target_names=target_names))"
   ]
  },
  {
   "cell_type": "markdown",
   "id": "bacterial-investing",
   "metadata": {},
   "source": [
    "#### SMOTE has improved the results a lot.  Recall: Out of all true high achievers 75% were predicted correctly.  <br>Precision: 70% of the high achievers we have predicted are actually high achievers. The accuracy score is 72%."
   ]
  }
 ],
 "metadata": {
  "kernelspec": {
   "display_name": "Python 3",
   "language": "python",
   "name": "python3"
  },
  "language_info": {
   "codemirror_mode": {
    "name": "ipython",
    "version": 3
   },
   "file_extension": ".py",
   "mimetype": "text/x-python",
   "name": "python",
   "nbconvert_exporter": "python",
   "pygments_lexer": "ipython3",
   "version": "3.8.8"
  }
 },
 "nbformat": 4,
 "nbformat_minor": 5
}
